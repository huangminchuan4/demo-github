{
  "nbformat": 4,
  "nbformat_minor": 0,
  "metadata": {
    "colab": {
      "name": "Untitled0.ipynb",
      "provenance": [],
      "authorship_tag": "ABX9TyPeCZ4dzf/BxpsUJTJ63bbM",
      "include_colab_link": true
    },
    "kernelspec": {
      "name": "python3",
      "display_name": "Python 3"
    },
    "language_info": {
      "name": "python"
    }
  },
  "cells": [
    {
      "cell_type": "markdown",
      "metadata": {
        "id": "view-in-github",
        "colab_type": "text"
      },
      "source": [
        "<a href=\"https://colab.research.google.com/github/huangminchuan4/demo-github/blob/master/2-2_%E5%BD%B1%E5%83%8F%E5%AD%98%E5%8F%96%E3%80%81%E8%BD%89%E6%8F%9B%E3%80%81%E8%B3%87%E8%A8%8A%E6%A8%99%E6%B3%A8.ipynb\" target=\"_parent\"><img src=\"https://colab.research.google.com/assets/colab-badge.svg\" alt=\"Open In Colab\"/></a>"
      ]
    },
    {
      "cell_type": "code",
      "metadata": {
        "id": "byCp1b5NmhSv"
      },
      "source": [
        "import os\n",
        "import cv2\n",
        "import gdown\n",
        "import subprocess\n",
        "import numpy as np\n",
        "from matplotlib import pyplot as plt\n",
        "from IPython.display import clear_output\n",
        "from google.colab.patches import cv2_imshow"
      ],
      "execution_count": 4,
      "outputs": []
    },
    {
      "cell_type": "code",
      "metadata": {
        "id": "UTkW6RzOnx4a"
      },
      "source": [
        "def download(link, filename):\n",
        "  if not os.path.isfile(filename):\n",
        "    gdown.download(link, filename, quiet=False)\n",
        "\n",
        "def unzip(check, zip):\n",
        "  if not os.path.isdir(check):\n",
        "    subprocess.call(['unzip', '-o', zip])\n",
        "\n",
        "download('https://drive.google.com/uc?id=18daLfuG3sZwnzekNlczPeQqePZHCJnMq', 'images.zip')\n",
        "unzip('images', 'images.zip')\n",
        "clear_output()"
      ],
      "execution_count": 6,
      "outputs": []
    }
  ]
}